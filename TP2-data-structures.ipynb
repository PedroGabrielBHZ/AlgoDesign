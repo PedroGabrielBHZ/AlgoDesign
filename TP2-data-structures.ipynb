{
 "cells": [
  {
   "cell_type": "code",
   "execution_count": 6,
   "metadata": {},
   "outputs": [],
   "source": [
    "try:\n",
    "    from algo_helper import * \n",
    "except: # try to fetch utils functions from URL\n",
    "    import urllib.request as request; exec(request.urlopen('https://perso.esiee.fr/~perretb/AlgorithmDesign/algo_helper.py').read(), globals())"
   ]
  },
  {
   "cell_type": "markdown",
   "metadata": {},
   "source": [
    "# Algorithm Design\n",
    "## Chapter 2 - Data structures"
   ]
  },
  {
   "cell_type": "markdown",
   "metadata": {},
   "source": [
    "### Unique elements in a list\n",
    "\n",
    "**Implement `unique` in the following function.**\n",
    "\n",
    "You can use the `sort` function, you cannot use a `dictionary` or a `set`.\n",
    "\n",
    "The unit test must says that your function seems correct."
   ]
  },
  {
   "cell_type": "code",
   "execution_count": 7,
   "metadata": {},
   "outputs": [
    {
     "name": "stdout",
     "output_type": "stream",
     "text": [
      "\u001b[95m--- Running test: \u001b[0m\n",
      "\u001b[92m✔  unique([]) -> []\u001b[0m\n",
      "\u001b[92m✔  unique([0, 0, 0, 0]) -> [0]\u001b[0m\n",
      "\u001b[92m✔  unique([4, 3, 22, 3, 11, 4, -1, 3, -1]) -> [-1, 3, 4, 11, 22]\u001b[0m\n",
      "\u001b[92m✔  unique([8, 2, 8, 9, 0, 4, 0, 4, 8, 5]) -> [0, 2, 4, 5, 8, 9]\u001b[0m\n",
      "\u001b[92m✔  unique([0, 3, 9, 0, 3, 1, 6, 4, 8, 8]) -> [0, 1, 3, 4, 6, 8, 9]\u001b[0m\n",
      "\u001b[92m✔  unique([3, 6, 7, 8, 7, 8, 3, 0, 3, 0]) -> [0, 3, 6, 7, 8]\u001b[0m\n",
      "\u001b[92m✔  unique([3, 6, 3, 8, 2, 4, 3, 4, 7, 0]) -> [0, 2, 3, 4, 6, 7, 8]\u001b[0m\n",
      "\u001b[92m✔  unique([1, 6, 9, 4, 8, 5, 0, 4, 8, 6]) -> [0, 1, 4, 5, 6, 8, 9]\u001b[0m\n",
      "\u001b[92m✔ 8/8 tests passed.\u001b[0m\n",
      "\u001b[95m--- Test finished.\u001b[0m\n"
     ]
    }
   ],
   "source": [
    "def unique(a):\n",
    "\tif len(a) == 0:\n",
    "\t\treturn a\n",
    "\ta = sorted(a)\n",
    "\tu = [a[0]]\n",
    "\tfor i in range(1, len(a)):\n",
    "\t\t\tif a[i] != a[i-1]:\n",
    "\t\t\t\tu.append(a[i])\n",
    "\treturn u\n",
    "\n",
    "test_unique(unique);"
   ]
  },
  {
   "cell_type": "markdown",
   "metadata": {},
   "source": [
    "**Give the worst-case runtime complexity of your algorithm.**\n",
    "\n",
    "$O(n*log(n))$ for sorting"
   ]
  },
  {
   "cell_type": "markdown",
   "metadata": {},
   "source": [
    "### Intersection of two lists\n",
    "\n",
    "**Implement `inter` in the following function.**\n",
    "\n",
    "You can use the `sort` function, you cannot use a `dictionary` or a `set`.\n",
    "\n",
    "The unit test must says that your function seems correct."
   ]
  },
  {
   "cell_type": "code",
   "execution_count": 8,
   "metadata": {},
   "outputs": [
    {
     "name": "stdout",
     "output_type": "stream",
     "text": [
      "\u001b[95m--- Running test: \u001b[0m\n",
      "\u001b[92m✔  inter([], []) -> []\u001b[0m\n",
      "\u001b[92m✔  inter([0, 1], []) -> []\u001b[0m\n",
      "\u001b[92m✔  inter([], [0, 1]) -> []\u001b[0m\n",
      "\u001b[92m✔  inter([8, 5, 8, 0, 6, 3, 6, 9, 8, 9], [0, 1, 9, 1, 8, 3, 8, 8, 5, 0]) -> [0, 3, 5, 8, 9]\u001b[0m\n",
      "\u001b[92m✔  inter([6, 1, 6, 8, 0, 9, 2, 3, 7, 5], [2, 3, 0, 7, 2, 9, 7, 1, 5, 4]) -> [0, 1, 2, 3, 5, 7, 9]\u001b[0m\n",
      "\u001b[92m✔  inter([3, 3, 7, 4, 9, 1, 2, 5, 5, 0], [5, 5, 5, 8, 3, 6, 6, 9, 0, 7]) -> [0, 3, 5, 7, 9]\u001b[0m\n",
      "\u001b[92m✔  inter([8, 0, 0, 5, 6, 5, 5, 8, 6, 6], [5, 9, 9, 1, 5, 2, 8, 4, 2, 4]) -> [8, 5]\u001b[0m\n",
      "\u001b[92m✔  inter([8, 2, 2, 2, 2, 5, 4, 1, 9, 0], [3, 1, 2, 3, 8, 3, 4, 8, 7, 6]) -> [8, 1, 2, 4]\u001b[0m\n",
      "\u001b[92m✔ 8/8 tests passed.\u001b[0m\n",
      "\u001b[95m--- Test finished.\u001b[0m\n"
     ]
    }
   ],
   "source": [
    "def inter(a, b):\n",
    "\ta = sorted(a)\n",
    "\tb = sorted(b)\n",
    "\ti, j = 0, 0\n",
    "\tres = []\n",
    "\twhile True:\n",
    "\t\tif i == len(a) or j == len(b):\n",
    "\t\t\tbreak\n",
    "\t\tif a[i] == b[j]:\n",
    "\t\t\tif a[i] not in res:\n",
    "\t\t\t\tres.append(a[i])\n",
    "\t\t\ti += 1\n",
    "\t\t\tj += 1\n",
    "\t\telif a[i] < b[j]:\n",
    "\t\t\ti += 1\n",
    "\t\telif b[j] < a[i]:\n",
    "\t\t\tj += 1\n",
    "\treturn res\n",
    "\n",
    "test_inter(inter);"
   ]
  },
  {
   "cell_type": "markdown",
   "metadata": {},
   "source": [
    "### Reverse Polish Notation\n",
    "\n",
    "**Implement `reverse_polish_evaluation` in the following function.**\n",
    "\n",
    "The input is a string containing integers and symbols + and * encoding a mathematical expression in reverse Polish notation and the function returns the value of the expression.\n",
    " \n",
    "The unit test must says that your function seems correct."
   ]
  },
  {
   "cell_type": "code",
   "execution_count": 9,
   "metadata": {},
   "outputs": [
    {
     "name": "stdout",
     "output_type": "stream",
     "text": [
      "\u001b[95m--- Running test: \u001b[0m\n",
      "\u001b[92m✔  reverse_polish_evaluation(3 2 + 4 *) -> 20\u001b[0m\n",
      "\u001b[92m✔  reverse_polish_evaluation(3 2 4 * +) -> 11\u001b[0m\n",
      "\u001b[92m✔  reverse_polish_evaluation(3 2 4 + *) -> 18\u001b[0m\n",
      "\u001b[92m✔  reverse_polish_evaluation(3 2 4 + * 2 +) -> 20\u001b[0m\n",
      "\u001b[92m✔  reverse_polish_evaluation(3 2 4 + 2 * +) -> 15\u001b[0m\n",
      "\u001b[92m✔ 5/5 tests passed.\u001b[0m\n",
      "\u001b[95m--- Test finished.\u001b[0m\n"
     ]
    }
   ],
   "source": [
    "def reverse_polish_evaluation(s):\n",
    "\ttokens = s.split()\n",
    "\tstack = []\n",
    "\tfor t in tokens:\n",
    "\t\tif t == '+':\n",
    "\t\t\tn1 = stack.pop()\n",
    "\t\t\tn2 = stack.pop()\n",
    "\t\t\tstack.append(n1 + n2)\n",
    "\t\telif t == '*':\n",
    "\t\t\tn1 = stack.pop()\n",
    "\t\t\tn2 = stack.pop()\n",
    "\t\t\tstack.append(n1 * n2)\n",
    "\t\telse:\n",
    "\t\t\tstack.append(int(t))\n",
    "\treturn stack.pop()\n",
    "\n",
    "test_reverse_polish_evaluation(reverse_polish_evaluation);   \n"
   ]
  },
  {
   "cell_type": "markdown",
   "metadata": {},
   "source": [
    "### Syntax Error\n",
    "\n",
    "**Implement `is_balanced` in the following function.**\n",
    "\n",
    "The class `List` in Python provides effectively implements a stack with the following interface:\n",
    "\n",
    "* `s.append(e)`: push a new element on the top of the stack\n",
    "* `s.pop()`: remove and return the element at the top of the stack\n",
    "\n",
    "The unit test must says that your function seems correct."
   ]
  },
  {
   "cell_type": "code",
   "execution_count": 10,
   "metadata": {},
   "outputs": [
    {
     "name": "stdout",
     "output_type": "stream",
     "text": [
      "\u001b[95m--- Running test: \u001b[0m\n",
      "\u001b[92m✔  is_balanced() -> True\u001b[0m\n",
      "\u001b[92m✔  is_balanced(()) -> True\u001b[0m\n",
      "\u001b[92m✔  is_balanced([]) -> True\u001b[0m\n",
      "\u001b[92m✔  is_balanced(([)]) -> False\u001b[0m\n",
      "\u001b[92m✔  is_balanced(([])) -> True\u001b[0m\n",
      "\u001b[92m✔  is_balanced(([) -> False\u001b[0m\n",
      "\u001b[92m✔  is_balanced([()[]]) -> True\u001b[0m\n",
      "\u001b[92m✔  is_balanced()) -> False\u001b[0m\n",
      "\u001b[92m✔ 8/8 tests passed.\u001b[0m\n",
      "\u001b[95m--- Test finished.\u001b[0m\n"
     ]
    }
   ],
   "source": [
    "def is_balanced(s):\n",
    "\tstack = []\n",
    "\tmatching_pairs = {')': '(', ']': '['}\n",
    "\n",
    "\tfor token in s:\n",
    "\t\tif token in matching_pairs.values():\n",
    "\t\t\tstack.append(token)\n",
    "\t\telif token in matching_pairs:\n",
    "\t\t\tif len(stack) == 0 or stack.pop() != matching_pairs[token]:\n",
    "\t\t\t\treturn False\n",
    "\t\telse:\n",
    "\t\t\tcontinue\n",
    "\t\t\n",
    "\treturn len(stack) == 0\t\n",
    "\n",
    "test_is_balanced(is_balanced);"
   ]
  },
  {
   "cell_type": "markdown",
   "metadata": {},
   "source": [
    "### Heap sort\n",
    "\n",
    "**Implement `heap_sort` in the following function.**\n",
    "\n",
    "The class `bheap` is a simple wrapper around some Python utility functions to create a binary heap.\n",
    " \n",
    "The unit test must says that your function seems correct."
   ]
  },
  {
   "cell_type": "code",
   "execution_count": 11,
   "metadata": {},
   "outputs": [
    {
     "name": "stdout",
     "output_type": "stream",
     "text": [
      "\u001b[95m--- Running test: \u001b[0m\n",
      "\u001b[92m✔  heap_sort([0.55 0.72 0.6  0.54 0.42 0.65 0.44 0.89 0.96 0.38]) -> [0.38 0.42 0.44 0.54 0.55 0.6  0.65 0.72 0.89 0.96]\u001b[0m\n",
      "\u001b[92m✔  heap_sort([0.82 0.34 0.97 0.32 0.26 0.67 0.3  0.04 0.19 0.96]) -> [0.04 0.19 0.26 0.3  0.32 0.34 0.67 0.82 0.96 0.97]\u001b[0m\n",
      "\u001b[92m✔  heap_sort([0.1  0.07 0.77 0.06 0.31 0.99 0.56 0.84 0.93 0.44]) -> [0.06 0.07 0.1  0.31 0.44 0.56 0.77 0.84 0.93 0.99]\u001b[0m\n",
      "\u001b[92m✔  heap_sort([0.59 0.83 0.07 0.05 0.91 0.5  0.01 0.63 0.15 0.15]) -> [0.01 0.05 0.07 0.15 0.15 0.5  0.59 0.63 0.83 0.91]\u001b[0m\n",
      "\u001b[92m✔  heap_sort([0.81 0.34 0.97 0.4  0.96 0.98 0.06 0.43 0.56 0.27]) -> [0.06 0.27 0.34 0.4  0.43 0.56 0.81 0.96 0.97 0.98]\u001b[0m\n",
      "\u001b[92m✔ 5/5 tests passed.\u001b[0m\n",
      "\u001b[95m--- Test finished.\u001b[0m\n"
     ]
    }
   ],
   "source": [
    "class bheap:\n",
    "\t\t# simple binary heap wrapper class around python heapq class\n",
    "\t\t# to match the interface presented in the course\n",
    "\n",
    "\t\tdef __init__(self):\n",
    "\t\t\t\t# create an empty binary heap\n",
    "\t\t\t\tself.heap = []\n",
    "\n",
    "\t\tdef insert(self, element):\n",
    "\t\t\t\t# insert a new element in the heap\n",
    "\t\t\t\timport heapq\n",
    "\t\t\t\theapq.heappush(self.heap, element)\n",
    "\n",
    "\t\tdef find_min(self):\n",
    "\t\t\t\t# find the minimum element in the heap\n",
    "\t\t\t\treturn self.heap[0]\n",
    "\t\t\n",
    "\t\tdef find_max(self):\n",
    "\t\t\t\t# find the maximum element in the heap\n",
    "\t\t\t\treturn self.heap[-1]\n",
    "\n",
    "\t\tdef delete_min(self):\n",
    "\t\t\t\t# remove the minimum element in the heap\n",
    "\t\t\t\timport heapq\n",
    "\t\t\t\theapq.heappop(self.heap)\n",
    "\n",
    "\t\tdef delete_max(self):\n",
    "\t\t\t\t# remove the maximum element in the heap\n",
    "\t\t\t\timport heapq\n",
    "\t\t\t\tmax_index = self.heap.index(max(self.heap))\n",
    "\t\t\t\tself.heap[max_index] = self.heap[-1]\n",
    "\t\t\t\tself.heap.pop()\n",
    "\t\t\t\theapq.heapify(self.heap)\n",
    "\n",
    "\t\tdef size(self):\n",
    "\t\t\t\t# number of elements in the heap\n",
    "\t\t\t\treturn len(self.heap)\n",
    "\n",
    "\t\t\n",
    "def heap_sort(array):\n",
    "\t\theap = bheap()\n",
    "\t\tfor n in array:\n",
    "\t\t\theap.insert(n)\n",
    "\t\tarray = []\n",
    "\t\twhile heap.size() > 0:\n",
    "\t\t\tarray.append(heap.find_min())\n",
    "\t\t\theap.delete_min()\n",
    "\t\treturn array\t\n",
    "\n",
    "unit_test_sort(heap_sort, inplace=False);"
   ]
  },
  {
   "cell_type": "markdown",
   "metadata": {},
   "source": [
    "Now let's verify that the runtime of the implemented algorithm matches the expected runtime complexity.\n",
    "\n",
    "We are going to run the implemented algorithm on three kind of inputs of various sizes:\n",
    "\n",
    "- already sorted arrays\n",
    "- reverse sorted arrays\n",
    "- random arrays\n",
    "\n",
    "**What is the best and worst case time complexity of the algorithm?**\n",
    "\n",
    "**Does the execution runtime of the implementation matches with those theoretical runtime complexities?**"
   ]
  },
  {
   "cell_type": "code",
   "execution_count": 12,
   "metadata": {},
   "outputs": [
    {
     "name": "stdout",
     "output_type": "stream",
     "text": [
      "\u001b[95m--- Running runtime test for 'heap_sort':\u001b[0m\n",
      "\u001b[94m\t - Input is a sorted array:\u001b[0m\n",
      "\t\tarray size: 1,024 -> time 1.140 s\n",
      "\t\tarray size: 2,048 -> time 2.759 s\n",
      "\t\tarray size: 4,096 -> time 5.248 s\n",
      "\t\tarray size: 8,192 -> time 7.915 s\n",
      "\t\tarray size: 16,384 -> time 14.631 s\n",
      "\t\tarray size: 32,768 -> time 29.948 s\n",
      "\t\tarray size: 65,536 -> time 63.776 s\n",
      "\t\tarray size: 131,072 -> time 125.001 s\n",
      "\u001b[94m\t - Input is a reverse sorted array:\u001b[0m\n",
      "\t\tarray size: 1,024 -> time 2.589 s\n",
      "\t\tarray size: 2,048 -> time 1.267 s\n",
      "\t\tarray size: 4,096 -> time 5.329 s\n",
      "\t\tarray size: 8,192 -> time 7.420 s\n",
      "\t\tarray size: 16,384 -> time 22.111 s\n",
      "\t\tarray size: 32,768 -> time 34.090 s\n",
      "\t\tarray size: 65,536 -> time 73.717 s\n",
      "\t\tarray size: 131,072 -> time 162.897 s\n",
      "\u001b[94m\t - Input is a random array:\u001b[0m\n",
      "\t\tarray size: 1,024 -> time 0.000 s\n",
      "\t\tarray size: 2,048 -> time 0.000 s\n",
      "\t\tarray size: 4,096 -> time 5.208 s\n",
      "\t\tarray size: 8,192 -> time 5.345 s\n",
      "\t\tarray size: 16,384 -> time 15.772 s\n",
      "\t\tarray size: 32,768 -> time 51.125 s\n",
      "\t\tarray size: 65,536 -> time 73.267 s\n",
      "\t\tarray size: 131,072 -> time 166.958 s\n"
     ]
    },
    {
     "data": {
      "image/png": "[encoded data removed]",
      "text/plain": [
       "<Figure size 640x480 with 1 Axes>"
      ]
     },
     "metadata": {},
     "output_type": "display_data"
    }
   ],
   "source": [
    "runtime_test_sort(heap_sort, [2**i for i in range(10, 18)])"
   ]
  },
  {
   "cell_type": "markdown",
   "metadata": {},
   "source": [
    "## Finding the k Smallest Elements in an Array\n",
    "\n",
    "In this section, we will implement a function to find the k smallest elements in an array using a custom binary heap class. The binary heap will be used to maintain a max-heap of the k smallest elements encountered so far. By the end of the process, we will extract and return the k smallest elements in sorted order.\n",
    "\n",
    "### Steps:\n",
    "1. **Define the `bheap` Class**: This class will simulate a max-heap using Python's `heapq` module by inserting negative values.\n",
    "2. **Insert Elements**: Insert the first k elements of the array into the heap.\n",
    "3. **Maintain k Smallest Elements**: For each subsequent element in the array, if it is smaller than the maximum element in the heap, replace the maximum element with the current element.\n",
    "4. **Extract k Smallest Elements**: Extract the minimum elements from the heap and sort them to get the k smallest elements in order.\n"
   ]
  },
  {
   "cell_type": "code",
   "execution_count": 13,
   "metadata": {},
   "outputs": [
    {
     "name": "stdout",
     "output_type": "stream",
     "text": [
      "[3, 2, 1, 0]\n"
     ]
    }
   ],
   "source": [
    "import heapq\n",
    "\n",
    "class bheap:\n",
    "\t\t\"\"\"\n",
    "\t\tBinary Heap implementation.\n",
    "\t\tMethods:\n",
    "\t\t- insert(val): Inserts a value into the heap.\n",
    "\t\t- find_max(): Returns the maximum value in the heap.\n",
    "\t\t- delete_max(): Deletes the maximum value from the heap.\n",
    "\t\t- find_min(): Returns the minimum value in the heap.\n",
    "\t\t- size(): Returns the size of the heap.\n",
    "\t\t\"\"\"\n",
    "\t\tdef __init__(self):\n",
    "\t\t\t\tself.heap = []\n",
    "\n",
    "\t\tdef insert(self, val):\n",
    "\t\t\t\theapq.heappush(self.heap, -val)  # Use negative values to simulate a max-heap\n",
    "\n",
    "\t\tdef find_max(self):\n",
    "\t\t\t\treturn -self.heap[0]  # Return the negative of the max value\n",
    "\n",
    "\t\tdef delete_max(self):\n",
    "\t\t\t\theapq.heappop(self.heap)  # Pop the max value (negative)\n",
    "\n",
    "\t\tdef find_min(self):\n",
    "\t\t\t\treturn -heapq.heappop(self.heap)  # Pop and return the min value (negative)\n",
    "\n",
    "\t\tdef size(self):\n",
    "\t\t\t\treturn len(self.heap)\n",
    "\n",
    "def get_k_min_elements(array, k):\n",
    "\t\t\"\"\"\n",
    "\t\tReturns the k minimum elements from the given array.\n",
    "\t\tParameters:\n",
    "\t\tarray (list): The input array.\n",
    "\t\tk (int): The number of minimum elements to return.\n",
    "\t\tReturns:\n",
    "\t\tlist: The k minimum elements from the array.\n",
    "\t\t\"\"\"\n",
    "\t\theap = bheap()\n",
    "\t\tfor i in range(k):\n",
    "\t\t\t\theap.insert(array[i])\n",
    "\t\tfor i in range(k, len(array)):\n",
    "\t\t\t\tif array[i] <= heap.find_max():\n",
    "\t\t\t\t\t\theap.delete_max()\n",
    "\t\t\t\t\t\theap.insert(array[i])\n",
    "\t\tk_min = []\n",
    "\t\twhile heap.size() > 0:\n",
    "\t\t\t\tk_min.append(heap.find_min())\n",
    "\t\treturn k_min\n",
    "\n",
    "test_array = [5, 7, 9, 1, 4, 2, 0, 9, 3]\n",
    "print(get_k_min_elements(test_array, 4))"
   ]
  },
  {
   "cell_type": "markdown",
   "metadata": {},
   "source": [
    "### Dynamic array insertion\n",
    "\n",
    "**Implement the two functions `new_size` and `insert_back` of the class `dynamic_array` and compare the runtime of the two strategies.**\n",
    "\n",
    "The unit test must says that your function seems correct."
   ]
  },
  {
   "cell_type": "code",
   "execution_count": 30,
   "metadata": {},
   "outputs": [
    {
     "name": "stdout",
     "output_type": "stream",
     "text": [
      "\u001b[95m--- Running test: Strategy: linear\u001b[0m\n",
      "\u001b[92m✔ 3000/3000 tests passed.\u001b[0m\n",
      "\u001b[95m--- Test finished.\u001b[0m\n",
      "\u001b[95m--- Running test: Strategy: geometric\u001b[0m\n",
      "\u001b[92m✔ 3000/3000 tests passed.\u001b[0m\n",
      "\u001b[95m--- Test finished.\u001b[0m\n"
     ]
    }
   ],
   "source": [
    "import numpy as np\n",
    "\n",
    "class dynamic_array:\n",
    "    def __init__(self, strategy):\n",
    "        \"\"\"\n",
    "        Create an empty dynamic array. \n",
    "        The allocation strategy can either be \"linear\" or \"geometric\"\n",
    "        \"\"\"\n",
    "        self.array = np.array([0], dtype=np.int64)\n",
    "        self.num_elements = 0\n",
    "        self.strategy = strategy\n",
    "\n",
    "    def at(self, k):\n",
    "        \"\"\"\n",
    "        Return the k-th element\n",
    "        \"\"\"\n",
    "        return self.array[k]\n",
    "\n",
    "    def size(self):\n",
    "        \"\"\"\n",
    "        Return the number of elements\n",
    "        \"\"\"\n",
    "        return self.num_elements\n",
    "\n",
    "    def capacity(self):\n",
    "        \"\"\"\n",
    "        Return the capacity of the storage array\n",
    "        \"\"\"\n",
    "        return len(self.array)\n",
    "\n",
    "    def increase_size(self):\n",
    "        \"\"\"\n",
    "        Increases the size of the storage array\n",
    "        \"\"\"\n",
    "        new_size = self.new_size()\n",
    "        new_array = np.empty((new_size,), dtype=np.int64)\n",
    "        new_array[:len(self.array)] = self.array[:]\n",
    "        self.array = new_array\n",
    "\n",
    "    def new_size(self):\n",
    "        \"\"\"\n",
    "        When we increase the size of the storage array: returns the size of the new storage:\n",
    "        If self.strategy is equal to \"linear\" the new size is len(self.array) + 5.\n",
    "        If self.strategy is equal to \"geometric\" the new size is len(self.array) * 2.\n",
    "        \"\"\"\n",
    "        if self.strategy == \"linear\":\n",
    "            return self.capacity() + 5\n",
    "        else:\n",
    "            return self.capacity() * 2\n",
    "\n",
    "    def insert_back(self, e):\n",
    "        \"\"\"\n",
    "        Insert an element at the back of the array, resizing if necessary\n",
    "        \"\"\"\n",
    "        if self.size() == self.capacity():\n",
    "            self.increase_size()\n",
    "        self.array[self.num_elements] = e\n",
    "        self.num_elements += 1\n",
    "\n",
    "# Example usage\n",
    "unit_test_dynamic_array(dynamic_array)"
   ]
  },
  {
   "cell_type": "markdown",
   "metadata": {},
   "source": [
    "Now let's verify that the runtime of the implemented algorithm matches the expected runtime complexity.\n",
    "\n",
    "Recall what is the expected amortized runtime complexity on $n$ operations `insert_back` on a dynamic array with the resizing strategy:\n",
    "\n",
    "- linear?\n",
    "- geometric?\n",
    "\n",
    "**Does the execution runtime of the implementation matches with those theoretical runtime complexities?**"
   ]
  },
  {
   "cell_type": "code",
   "execution_count": 31,
   "metadata": {},
   "outputs": [
    {
     "name": "stdout",
     "output_type": "stream",
     "text": [
      "Dynamic array \n",
      "\tLinear allocation\n",
      "\t\t 1000 -> 0.0\n",
      "\t\t 4000 -> 0.000947415828704834\n",
      "\t\t 7000 -> 0.0010728495461600166\n",
      "\t\t 10000 -> 0.000795435905456543\n",
      "\t\t 13000 -> 0.0006446104783278245\n",
      "\t\t 16000 -> 0.001140490174293518\n",
      "\t\t 19000 -> 0.0011615502206902754\n",
      "\t\t 22000 -> 0.0011611743406815963\n",
      "\t\t 25000 -> 0.0013372802734375\n",
      "\t\t 28000 -> 0.0017668775149754115\n",
      "\t\t 31000 -> 0.0016407428249236077\n",
      "\t\t 34000 -> 0.0018619298934936523\n",
      "\t\t 37000 -> 0.0022623345658585835\n",
      "\t\t 40000 -> 0.0022900164127349853\n",
      "\t\t 43000 -> 0.001989303633224133\n",
      "\t\t 46000 -> 0.0021925490835438604\n",
      "\t\t 49000 -> 0.0024759282871168486\n",
      "\t\t 52000 -> 0.0024470090866088867\n",
      "\t\t 55000 -> 0.002387744730169123\n",
      "\t\t 58000 -> 0.002360775552946946\n",
      "\t\t 61000 -> 0.0027719638386710745\n",
      "\t\t 64000 -> 0.0023390017449855804\n",
      "\t\t 67000 -> 0.0023602834388391294\n",
      "\t\t 70000 -> 0.002494359016418457\n",
      "\tGeometric allocation\n",
      "\t\t 1000 -> 0.0\n",
      "\t\t 4000 -> 0.0\n",
      "\t\t 7000 -> 0.0\n",
      "\t\t 10000 -> 0.0\n",
      "\t\t 13000 -> 6.576684805063101e-05\n",
      "\t\t 16000 -> 0.0003818720579147339\n",
      "\t\t 19000 -> 0.0004367075468364515\n",
      "\t\t 22000 -> 0.0003654414957219904\n",
      "\t\t 25000 -> 0.0003319263458251953\n",
      "\t\t 28000 -> 0.0002979551042829241\n",
      "\t\t 31000 -> 0.0002681055376606603\n",
      "\t\t 34000 -> 0.0002655351863187902\n",
      "\t\t 37000 -> 0.0003010066779884132\n",
      "\t\t 40000 -> 0.00021033287048339842\n",
      "\t\t 43000 -> 0.0003673143165056095\n",
      "\t\t 46000 -> 0.00036295600559400475\n",
      "\t\t 49000 -> 0.00033809700790716677\n",
      "\t\t 52000 -> 0.0003034655864422138\n",
      "\t\t 55000 -> 0.0003028782931241122\n",
      "\t\t 58000 -> 0.0002938180134214204\n",
      "\t\t 61000 -> 0.00027580730250624356\n",
      "\t\t 64000 -> 0.00026120245456695557\n",
      "\t\t 67000 -> 0.00031568399116174494\n",
      "\t\t 70000 -> 0.0003475734165736607\n"
     ]
    },
    {
     "data": {
      "image/png": "[encoded data removed]",
      "text/plain": [
       "<Figure size 640x480 with 1 Axes>"
      ]
     },
     "metadata": {},
     "output_type": "display_data"
    }
   ],
   "source": [
    "plot_dynamic_array_runtime(dynamic_array)"
   ]
  },
  {
   "cell_type": "markdown",
   "metadata": {},
   "source": [
    "### Dequeue based on dynamic arrays\n",
    "\n",
    "**Implement the functions  of the class `dequeuea` below.**\n",
    "\n",
    "The unit test must says that your function seems correct."
   ]
  },
  {
   "cell_type": "code",
   "execution_count": null,
   "metadata": {},
   "outputs": [],
   "source": [
    "import numpy as np\n",
    "\n",
    "\n",
    "class dequeuea:\n",
    "    # A dequeue based on a dynamic array\n",
    "\n",
    "    def __init__(self):\n",
    "        # create an empty binary heap\n",
    "        self.array = np.zeros(1, dtype=np.int64)\n",
    "        ####################\n",
    "        ## Your code here ##\n",
    "        ####################\n",
    "        pass\n",
    "\n",
    "    def size(self):\n",
    "        # return the number of elements in the queue\n",
    "\n",
    "        ####################\n",
    "        ## Your code here ##\n",
    "        ####################\n",
    "        pass\n",
    "\n",
    "    def peek_front(self):\n",
    "        # return the element at the front of the queue\n",
    "\n",
    "        ####################\n",
    "        ## Your code here ##\n",
    "        ####################\n",
    "        pass\n",
    "\n",
    "    def peek_back(self):\n",
    "        # return the element at the back of the queue\n",
    "\n",
    "        ####################\n",
    "        ## Your code here ##\n",
    "        ####################\n",
    "        pass\n",
    "\n",
    "    def _increase_array_size(self):\n",
    "        # increase the size of the array with a growth factor of 2\n",
    "        # copy the old array in the middle of the new one\n",
    "\n",
    "        ####################\n",
    "        ## Your code here ##\n",
    "        ####################\n",
    "        pass\n",
    "\n",
    "    def insert_front(self, ne):\n",
    "        # insert a new element at the front of the queue\n",
    "\n",
    "        ####################\n",
    "        ## Your code here ##\n",
    "        ####################\n",
    "        pass\n",
    "\n",
    "    def insert_back(self, ne):\n",
    "        # insert a new element at the back of the queue\n",
    "\n",
    "        ####################\n",
    "        ## Your code here ##\n",
    "        ####################\n",
    "        pass\n",
    "\n",
    "    def remove_front(self):\n",
    "        # remove the element at the front of the queue\n",
    "\n",
    "        ####################\n",
    "        ## Your code here ##\n",
    "        ####################\n",
    "        pass\n",
    "\n",
    "    def remove_back(self):\n",
    "        #remove the element at the back of the queue\n",
    "\n",
    "        ####################\n",
    "        ## Your code here ##\n",
    "        ####################\n",
    "        pass\n",
    "\n",
    "test_dequeue(dequeuea);"
   ]
  },
  {
   "cell_type": "markdown",
   "metadata": {},
   "source": [
    "The following execution example can help you debug your code"
   ]
  },
  {
   "cell_type": "code",
   "execution_count": null,
   "metadata": {},
   "outputs": [],
   "source": [
    "\n",
    "def print_info(dq):\n",
    "    if dq.size() > 0:\n",
    "        print(\"Dequeue: size:\", dq.size(), \"front\", dq.peek_front(), \"back\",\n",
    "              dq.peek_back())\n",
    "    else:\n",
    "        print(\"Dequeue: size:\", dq.size())\n",
    "\n",
    "\n",
    "dq = dequeuea()\n",
    "\n",
    "print(\"insert front 1\")\n",
    "dq.insert_front(1)\n",
    "print_info(dq)\n",
    "print(\"insert back 2\")\n",
    "dq.insert_back(2)\n",
    "print_info(dq)\n",
    "print(\"remove back\")\n",
    "dq.remove_back()\n",
    "print_info(dq)\n",
    "print(\"remove back\")\n",
    "dq.remove_back()\n",
    "print_info(dq)\n",
    "\n",
    "print(\"insert front 0, 1, 2, 3, 4, 5\")\n",
    "print(\"insert back 6, 7\")\n",
    "for i in range(6):\n",
    "    dq.insert_front(i)\n",
    "for i in range(6, 8):\n",
    "    dq.insert_back(i)\n",
    "print_info(dq)"
   ]
  },
  {
   "cell_type": "markdown",
   "metadata": {},
   "source": [
    "### Reverse singly linked list\n",
    "\n",
    "**Implement the functions `reverse_list` below.**\n",
    "\n",
    "The unit test must says that your function seems correct."
   ]
  },
  {
   "cell_type": "code",
   "execution_count": null,
   "metadata": {},
   "outputs": [],
   "source": [
    "class SinglyLinkedListNode:\n",
    "    def __init__(self, value, next=None):\n",
    "        self.value = value\n",
    "        self.next = next\n",
    "\n",
    "    def __str__(self):\n",
    "        s = \"(\" \n",
    "        n = self\n",
    "        while n != None:\n",
    "            s += str(n.value)\n",
    "            if n.next != None:\n",
    "                s += \" -> \"\n",
    "            n = n.next\n",
    "\n",
    "        s += \")\"\n",
    "        return s\n",
    "\n",
    "\n",
    "\n",
    "def reverse_list(sl_list):\n",
    "    # function that reverse a singly linked list\n",
    "    # sl_list: head of the singly linked list (type SinglyLinkedListNode)\n",
    "    # return: head node of the reversed list\n",
    "\n",
    "    ####################\n",
    "    ## Your code here ##\n",
    "    ####################\n",
    "    pass\n",
    "\n",
    "\n",
    "test_reverse_single_linked_list(reverse_list, SinglyLinkedListNode);"
   ]
  },
  {
   "cell_type": "markdown",
   "metadata": {},
   "source": [
    "The following execution example can help you debug your code"
   ]
  },
  {
   "cell_type": "code",
   "execution_count": null,
   "metadata": {},
   "outputs": [],
   "source": [
    "n = None\n",
    "for i in range(8, -1, -1):\n",
    "    n = SinglyLinkedListNode(i, n)\n",
    "\n",
    "print(\"Original list:\", str(n))\n",
    "\n",
    "nl = reverse_list(n)\n",
    "print(\"Reversed: \", str(nl))"
   ]
  }
 ],
 "metadata": {
  "kernelspec": {
   "display_name": "base",
   "language": "python",
   "name": "python3"
  },
  "language_info": {
   "codemirror_mode": {
    "name": "ipython",
    "version": 3
   },
   "file_extension": ".py",
   "mimetype": "text/x-python",
   "name": "python",
   "nbconvert_exporter": "python",
   "pygments_lexer": "ipython3",
   "version": "3.11.2"
  }
 },
 "nbformat": 4,
 "nbformat_minor": 2
}
