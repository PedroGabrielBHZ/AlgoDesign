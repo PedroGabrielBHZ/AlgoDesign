{
 "cells": [
  {
   "cell_type": "code",
   "execution_count": 1,
   "metadata": {},
   "outputs": [],
   "source": [
    "try:\n",
    "    from algo_helper import * \n",
    "except: # try to fetch utils functions from URL\n",
    "    import urllib.request as request; exec(request.urlopen('https://perso.esiee.fr/~perretb/AlgorithmDesign/algo_helper.py').read(), globals())"
   ]
  },
  {
   "cell_type": "markdown",
   "metadata": {},
   "source": [
    "# Algorithm Design\n",
    "## Chapter 2 - Data structures"
   ]
  },
  {
   "cell_type": "markdown",
   "metadata": {},
   "source": [
    "### Unique elements in a list\n",
    "\n",
    "**Implement `unique` in the following function.**\n",
    "\n",
    "You can use the `sort` function, you cannot use a `dictionary` or a `set`.\n",
    "\n",
    "The unit test must says that your function seems correct."
   ]
  },
  {
   "cell_type": "code",
   "execution_count": 2,
   "metadata": {},
   "outputs": [
    {
     "name": "stdout",
     "output_type": "stream",
     "text": [
      "\u001b[95m--- Running test: \u001b[0m\n",
      "\u001b[92m✔  unique([]) -> []\u001b[0m\n",
      "\u001b[92m✔  unique([0, 0, 0, 0]) -> [0]\u001b[0m\n",
      "\u001b[92m✔  unique([4, 3, 22, 3, 11, 4, -1, 3, -1]) -> [-1, 3, 4, 11, 22]\u001b[0m\n",
      "\u001b[92m✔  unique([3, 6, 6, 2, 1, 2, 6, 1, 1, 5]) -> [1, 2, 3, 5, 6]\u001b[0m\n",
      "\u001b[92m✔  unique([2, 2, 7, 0, 4, 5, 4, 2, 8, 6]) -> [0, 2, 4, 5, 6, 7, 8]\u001b[0m\n",
      "\u001b[92m✔  unique([1, 3, 7, 9, 9, 1, 4, 8, 1, 6]) -> [1, 3, 4, 6, 7, 8, 9]\u001b[0m\n",
      "\u001b[92m✔  unique([2, 5, 2, 8, 5, 9, 0, 2, 0, 0]) -> [0, 2, 5, 8, 9]\u001b[0m\n",
      "\u001b[92m✔  unique([3, 2, 7, 4, 7, 2, 9, 3, 4, 2]) -> [2, 3, 4, 7, 9]\u001b[0m\n",
      "\u001b[92m✔ 8/8 tests passed.\u001b[0m\n",
      "\u001b[95m--- Test finished.\u001b[0m\n"
     ]
    }
   ],
   "source": [
    "def unique(a):\n",
    "\tif len(a) == 0:\n",
    "\t\treturn a\n",
    "\ta = sorted(a)\n",
    "\tu = [a[0]]\n",
    "\tfor i in range(1, len(a)):\n",
    "\t\t\tif a[i] != a[i-1]:\n",
    "\t\t\t\tu.append(a[i])\n",
    "\treturn u\n",
    "\n",
    "test_unique(unique);"
   ]
  },
  {
   "cell_type": "markdown",
   "metadata": {},
   "source": [
    "**Give the worst-case runtime complexity of your algorithm.**\n",
    "\n",
    "$O(n*log(n))$ for sorting."
   ]
  },
  {
   "cell_type": "markdown",
   "metadata": {},
   "source": [
    "### Intersection of two lists\n",
    "\n",
    "**Implement `inter` in the following function.**\n",
    "\n",
    "You can use the `sort` function, you cannot use a `dictionary` or a `set`.\n",
    "\n",
    "The unit test must says that your function seems correct."
   ]
  },
  {
   "cell_type": "code",
   "execution_count": 1,
   "metadata": {},
   "outputs": [
    {
     "ename": "NameError",
     "evalue": "name 'test_inter' is not defined",
     "output_type": "error",
     "traceback": [
      "\u001b[1;31m---------------------------------------------------------------------------\u001b[0m",
      "\u001b[1;31mNameError\u001b[0m                                 Traceback (most recent call last)",
      "Cell \u001b[1;32mIn[1], line 22\u001b[0m\n\u001b[0;32m     19\u001b[0m \t\t\tj \u001b[38;5;241m+\u001b[39m\u001b[38;5;241m=\u001b[39m \u001b[38;5;241m1\u001b[39m\n\u001b[0;32m     20\u001b[0m \t\u001b[38;5;28;01mreturn\u001b[39;00m intersection\n\u001b[1;32m---> 22\u001b[0m \u001b[43mtest_inter\u001b[49m(inter)\n",
      "\u001b[1;31mNameError\u001b[0m: name 'test_inter' is not defined"
     ]
    }
   ],
   "source": [
    "def inter(a, b):\n",
    "\ta = sorted(a)\n",
    "\tb = sorted(b)\n",
    "\ti, j = 0, 0\n",
    "\tintersection = []\n",
    "\tlast_inserted = None\n",
    "\twhile True:\n",
    "\t\tif i == len(a) or j == len(b):\n",
    "\t\t\tbreak\n",
    "\t\tif a[i] == b[j]:\n",
    "\t\t\tif a[i] != last_inserted:\n",
    "\t\t\t\tintersection.append(a[i])\n",
    "\t\t\t\tlast_inserted = a[i]\n",
    "\t\t\ti += 1\n",
    "\t\t\tj += 1\n",
    "\t\telif a[i] < b[j]:\n",
    "\t\t\ti += 1\n",
    "\t\telif b[j] < a[i]:\n",
    "\t\t\tj += 1\n",
    "\treturn intersection\n",
    "\n",
    "test_inter(inter)"
   ]
  },
  {
   "cell_type": "markdown",
   "metadata": {},
   "source": [
    "### Reverse Polish Notation\n",
    "\n",
    "**Implement `reverse_polish_evaluation` in the following function.**\n",
    "\n",
    "The input is a string containing integers and symbols + and * encoding a mathematical expression in reverse Polish notation and the function returns the value of the expression.\n",
    " \n",
    "The unit test must says that your function seems correct."
   ]
  },
  {
   "cell_type": "code",
   "execution_count": 4,
   "metadata": {},
   "outputs": [
    {
     "name": "stdout",
     "output_type": "stream",
     "text": [
      "\u001b[95m--- Running test: \u001b[0m\n",
      "\u001b[92m✔  reverse_polish_evaluation(3 2 + 4 *) -> 20\u001b[0m\n",
      "\u001b[92m✔  reverse_polish_evaluation(3 2 4 * +) -> 11\u001b[0m\n",
      "\u001b[92m✔  reverse_polish_evaluation(3 2 4 + *) -> 18\u001b[0m\n",
      "\u001b[92m✔  reverse_polish_evaluation(3 2 4 + * 2 +) -> 20\u001b[0m\n",
      "\u001b[92m✔  reverse_polish_evaluation(3 2 4 + 2 * +) -> 15\u001b[0m\n",
      "\u001b[92m✔ 5/5 tests passed.\u001b[0m\n",
      "\u001b[95m--- Test finished.\u001b[0m\n"
     ]
    }
   ],
   "source": [
    "def reverse_polish_evaluation(s):\n",
    "\ttokens = s.split()\n",
    "\tstack = []\n",
    "\tfor t in tokens:\n",
    "\t\tif t == '+':\n",
    "\t\t\tn1 = stack.pop()\n",
    "\t\t\tn2 = stack.pop()\n",
    "\t\t\tstack.append(n1 + n2)\n",
    "\t\telif t == '*':\n",
    "\t\t\tn1 = stack.pop()\n",
    "\t\t\tn2 = stack.pop()\n",
    "\t\t\tstack.append(n1 * n2)\n",
    "\t\telse:\n",
    "\t\t\tstack.append(int(t))\n",
    "\treturn stack.pop()\n",
    "\n",
    "test_reverse_polish_evaluation(reverse_polish_evaluation);   \n"
   ]
  },
  {
   "cell_type": "markdown",
   "metadata": {},
   "source": [
    "### Syntax Error\n",
    "\n",
    "**Implement `is_balanced` in the following function.**\n",
    "\n",
    "The class `List` in Python provides effectively implements a stack with the following interface:\n",
    "\n",
    "* `s.append(e)`: push a new element on the top of the stack\n",
    "* `s.pop()`: remove and return the element at the top of the stack\n",
    "\n",
    "The unit test must says that your function seems correct."
   ]
  },
  {
   "cell_type": "code",
   "execution_count": 5,
   "metadata": {},
   "outputs": [
    {
     "name": "stdout",
     "output_type": "stream",
     "text": [
      "\u001b[95m--- Running test: \u001b[0m\n",
      "\u001b[92m✔  is_balanced() -> True\u001b[0m\n",
      "\u001b[92m✔  is_balanced(()) -> True\u001b[0m\n",
      "\u001b[92m✔  is_balanced([]) -> True\u001b[0m\n",
      "\u001b[92m✔  is_balanced(([)]) -> False\u001b[0m\n",
      "\u001b[92m✔  is_balanced(([])) -> True\u001b[0m\n",
      "\u001b[92m✔  is_balanced(([) -> False\u001b[0m\n",
      "\u001b[92m✔  is_balanced([()[]]) -> True\u001b[0m\n",
      "\u001b[92m✔  is_balanced()) -> False\u001b[0m\n",
      "\u001b[92m✔ 8/8 tests passed.\u001b[0m\n",
      "\u001b[95m--- Test finished.\u001b[0m\n"
     ]
    }
   ],
   "source": [
    "def is_balanced(s):\n",
    "\tstack = []\n",
    "\tmatching_pairs = {')': '(', ']': '['}\n",
    "\n",
    "\tfor token in s:\n",
    "\t\tif token in matching_pairs.values():\n",
    "\t\t\tstack.append(token)\n",
    "\t\telif token in matching_pairs:\n",
    "\t\t\tif len(stack) == 0 or stack.pop() != matching_pairs[token]:\n",
    "\t\t\t\treturn False\n",
    "\t\telse:\n",
    "\t\t\tcontinue\n",
    "\t\t\n",
    "\treturn len(stack) == 0\t\n",
    "\n",
    "test_is_balanced(is_balanced);"
   ]
  },
  {
   "cell_type": "markdown",
   "metadata": {},
   "source": [
    "### Heap sort\n",
    "\n",
    "**Implement `heap_sort` in the following function.**\n",
    "\n",
    "The class `bheap` is a simple wrapper around some Python utility functions to create a binary heap.\n",
    " \n",
    "The unit test must says that your function seems correct."
   ]
  },
  {
   "cell_type": "code",
   "execution_count": 6,
   "metadata": {},
   "outputs": [
    {
     "name": "stdout",
     "output_type": "stream",
     "text": [
      "\u001b[95m--- Running test: \u001b[0m\n",
      "\u001b[92m✔  heap_sort([0.55 0.72 0.6  0.54 0.42 0.65 0.44 0.89 0.96 0.38]) -> [0.38 0.42 0.44 0.54 0.55 0.6  0.65 0.72 0.89 0.96]\u001b[0m\n",
      "\u001b[92m✔  heap_sort([0.22 0.48 0.1  0.42 0.22 0.58 0.92 0.43 0.15 0.74]) -> [0.1  0.15 0.22 0.22 0.42 0.43 0.48 0.58 0.74 0.92]\u001b[0m\n",
      "\u001b[92m✔  heap_sort([0.33 0.56 0.56 0.   0.18 0.03 0.47 0.42 0.96 0.51]) -> [0.   0.03 0.18 0.33 0.42 0.47 0.51 0.56 0.56 0.96]\u001b[0m\n",
      "\u001b[92m✔  heap_sort([0.73 0.23 0.3  0.61 0.16 0.52 0.01 0.86 0.22 0.13]) -> [0.01 0.13 0.16 0.22 0.23 0.3  0.52 0.61 0.73 0.86]\u001b[0m\n",
      "\u001b[92m✔  heap_sort([0.53 0.19 0.79 0.19 0.47 0.75 0.24 0.78 0.12 0.82]) -> [0.12 0.19 0.19 0.24 0.47 0.53 0.75 0.78 0.79 0.82]\u001b[0m\n",
      "\u001b[92m✔ 5/5 tests passed.\u001b[0m\n",
      "\u001b[95m--- Test finished.\u001b[0m\n"
     ]
    }
   ],
   "source": [
    "class bheap:\n",
    "\t\t# simple binary heap wrapper class around python heapq class\n",
    "\t\t# to match the interface presented in the course\n",
    "\n",
    "\t\tdef __init__(self):\n",
    "\t\t\t\t# create an empty binary heap\n",
    "\t\t\t\tself.heap = []\n",
    "\n",
    "\t\tdef insert(self, element):\n",
    "\t\t\t\t# insert a new element in the heap\n",
    "\t\t\t\timport heapq\n",
    "\t\t\t\theapq.heappush(self.heap, element)\n",
    "\n",
    "\t\tdef find_min(self):\n",
    "\t\t\t\t# find the minimum element in the heap\n",
    "\t\t\t\treturn self.heap[0]\n",
    "\t\t\n",
    "\t\tdef find_max(self):\n",
    "\t\t\t\t# find the maximum element in the heap\n",
    "\t\t\t\treturn self.heap[-1]\n",
    "\n",
    "\t\tdef delete_min(self):\n",
    "\t\t\t\t# remove the minimum element in the heap\n",
    "\t\t\t\timport heapq\n",
    "\t\t\t\theapq.heappop(self.heap)\n",
    "\n",
    "\t\tdef delete_max(self):\n",
    "\t\t\t\t# remove the maximum element in the heap\n",
    "\t\t\t\timport heapq\n",
    "\t\t\t\tmax_index = self.heap.index(max(self.heap))\n",
    "\t\t\t\tself.heap[max_index] = self.heap[-1]\n",
    "\t\t\t\tself.heap.pop()\n",
    "\t\t\t\theapq.heapify(self.heap)\n",
    "\n",
    "\t\tdef size(self):\n",
    "\t\t\t\t# number of elements in the heap\n",
    "\t\t\t\treturn len(self.heap)\n",
    "\n",
    "\t\t\n",
    "def heap_sort(array):\n",
    "\t\theap = bheap()\n",
    "\t\tfor n in array:\n",
    "\t\t\theap.insert(n)\n",
    "\t\tarray = []\n",
    "\t\twhile heap.size() > 0:\n",
    "\t\t\tarray.append(heap.find_min())\n",
    "\t\t\theap.delete_min()\n",
    "\t\treturn array\t\n",
    "\n",
    "unit_test_sort(heap_sort, inplace=False);"
   ]
  },
  {
   "cell_type": "markdown",
   "metadata": {},
   "source": [
    "Now let's verify that the runtime of the implemented algorithm matches the expected runtime complexity.\n",
    "\n",
    "We are going to run the implemented algorithm on three kind of inputs of various sizes:\n",
    "\n",
    "- already sorted arrays\n",
    "- reverse sorted arrays\n",
    "- random arrays\n",
    "\n",
    "**What is the best and worst case time complexity of the algorithm?**\n",
    "\n",
    "**Does the execution runtime of the implementation matches with those theoretical runtime complexities?**"
   ]
  },
  {
   "cell_type": "code",
   "execution_count": 7,
   "metadata": {},
   "outputs": [
    {
     "name": "stdout",
     "output_type": "stream",
     "text": [
      "\u001b[95m--- Running runtime test for 'heap_sort':\u001b[0m\n",
      "\u001b[94m\t - Input is a sorted array:\u001b[0m\n",
      "\t\tarray size: 1,024 -> time 0.000 s\n",
      "\t\tarray size: 2,048 -> time 0.000 s\n",
      "\t\tarray size: 4,096 -> time 7.710 s\n",
      "\t\tarray size: 8,192 -> time 10.194 s\n",
      "\t\tarray size: 16,384 -> time 11.221 s\n",
      "\t\tarray size: 32,768 -> time 28.212 s\n",
      "\t\tarray size: 65,536 -> time 61.705 s\n",
      "\t\tarray size: 131,072 -> time 129.345 s\n",
      "\u001b[94m\t - Input is a reverse sorted array:\u001b[0m\n",
      "\t\tarray size: 1,024 -> time 2.543 s\n",
      "\t\tarray size: 2,048 -> time 0.232 s\n",
      "\t\tarray size: 4,096 -> time 4.948 s\n",
      "\t\tarray size: 8,192 -> time 8.707 s\n",
      "\t\tarray size: 16,384 -> time 15.224 s\n",
      "\t\tarray size: 32,768 -> time 31.648 s\n",
      "\t\tarray size: 65,536 -> time 62.576 s\n",
      "\t\tarray size: 131,072 -> time 135.986 s\n",
      "\u001b[94m\t - Input is a random array:\u001b[0m\n",
      "\t\tarray size: 1,024 -> time 5.208 s\n",
      "\t\tarray size: 2,048 -> time 0.000 s\n",
      "\t\tarray size: 4,096 -> time 5.208 s\n",
      "\t\tarray size: 8,192 -> time 5.338 s\n",
      "\t\tarray size: 16,384 -> time 15.628 s\n",
      "\t\tarray size: 32,768 -> time 26.184 s\n",
      "\t\tarray size: 65,536 -> time 83.615 s\n",
      "\t\tarray size: 131,072 -> time 162.570 s\n"
     ]
    },
    {
     "data": {
      "image/png": "[encoded data removed]",
      "text/plain": [
       "<Figure size 640x480 with 1 Axes>"
      ]
     },
     "metadata": {},
     "output_type": "display_data"
    }
   ],
   "source": [
    "runtime_test_sort(heap_sort, [2**i for i in range(10, 18)])"
   ]
  },
  {
   "cell_type": "markdown",
   "metadata": {},
   "source": [
    "## Finding the k Smallest Elements in an Array\n",
    "\n",
    "In this section, we will implement a function to find the k smallest elements in an array using a custom binary heap class. The binary heap will be used to maintain a max-heap of the k smallest elements encountered so far. By the end of the process, we will extract and return the k smallest elements in sorted order.\n",
    "\n",
    "### Steps:\n",
    "1. **Define the `bheap` Class**: This class will simulate a max-heap using Python's `heapq` module by inserting negative values.\n",
    "2. **Insert Elements**: Insert the first k elements of the array into the heap.\n",
    "3. **Maintain k Smallest Elements**: For each subsequent element in the array, if it is smaller than the maximum element in the heap, replace the maximum element with the current element.\n",
    "4. **Extract k Smallest Elements**: Extract the minimum elements from the heap and sort them to get the k smallest elements in order.\n"
   ]
  },
  {
   "cell_type": "code",
   "execution_count": 8,
   "metadata": {},
   "outputs": [
    {
     "name": "stdout",
     "output_type": "stream",
     "text": [
      "[3, 2, 1, 0]\n"
     ]
    }
   ],
   "source": [
    "import heapq\n",
    "\n",
    "class bheap:\n",
    "\t\t\"\"\"\n",
    "\t\tBinary Heap implementation.\n",
    "\t\tMethods:\n",
    "\t\t- insert(val): Inserts a value into the heap.\n",
    "\t\t- find_max(): Returns the maximum value in the heap.\n",
    "\t\t- delete_max(): Deletes the maximum value from the heap.\n",
    "\t\t- find_min(): Returns the minimum value in the heap.\n",
    "\t\t- size(): Returns the size of the heap.\n",
    "\t\t\"\"\"\n",
    "\t\tdef __init__(self):\n",
    "\t\t\t\tself.heap = []\n",
    "\n",
    "\t\tdef insert(self, val):\n",
    "\t\t\t\theapq.heappush(self.heap, -val)  # Use negative values to simulate a max-heap\n",
    "\n",
    "\t\tdef find_max(self):\n",
    "\t\t\t\treturn -self.heap[0]  # Return the negative of the max value\n",
    "\n",
    "\t\tdef delete_max(self):\n",
    "\t\t\t\theapq.heappop(self.heap)  # Pop the max value (negative)\n",
    "\n",
    "\t\tdef find_min(self):\n",
    "\t\t\t\treturn -heapq.heappop(self.heap)  # Pop and return the min value (negative)\n",
    "\n",
    "\t\tdef size(self):\n",
    "\t\t\t\treturn len(self.heap)\n",
    "\n",
    "def get_k_min_elements(array, k):\n",
    "\t\t\"\"\"\n",
    "\t\tReturns the k minimum elements from the given array.\n",
    "\t\tParameters:\n",
    "\t\tarray (list): The input array.\n",
    "\t\tk (int): The number of minimum elements to return.\n",
    "\t\tReturns:\n",
    "\t\tlist: The k minimum elements from the array.\n",
    "\t\t\"\"\"\n",
    "\t\theap = bheap()\n",
    "\t\tfor i in range(k):\n",
    "\t\t\t\theap.insert(array[i])\n",
    "\t\tfor i in range(k, len(array)):\n",
    "\t\t\t\tif array[i] <= heap.find_max():\n",
    "\t\t\t\t\t\theap.delete_max()\n",
    "\t\t\t\t\t\theap.insert(array[i])\n",
    "\t\tk_min = []\n",
    "\t\twhile heap.size() > 0:\n",
    "\t\t\t\tk_min.append(heap.find_min())\n",
    "\t\treturn k_min\n",
    "\n",
    "test_array = [5, 7, 9, 1, 4, 2, 0, 9, 3]\n",
    "print(get_k_min_elements(test_array, 4))"
   ]
  },
  {
   "cell_type": "markdown",
   "metadata": {},
   "source": [
    "### Dynamic array insertion\n",
    "\n",
    "**Implement the two functions `new_size` and `insert_back` of the class `dynamic_array` and compare the runtime of the two strategies.**\n",
    "\n",
    "The unit test must says that your function seems correct."
   ]
  },
  {
   "cell_type": "code",
   "execution_count": 9,
   "metadata": {},
   "outputs": [
    {
     "name": "stdout",
     "output_type": "stream",
     "text": [
      "\u001b[95m--- Running test: Strategy: linear\u001b[0m\n",
      "\u001b[92m✔ 3000/3000 tests passed.\u001b[0m\n",
      "\u001b[95m--- Test finished.\u001b[0m\n",
      "\u001b[95m--- Running test: Strategy: geometric\u001b[0m\n",
      "\u001b[92m✔ 3000/3000 tests passed.\u001b[0m\n",
      "\u001b[95m--- Test finished.\u001b[0m\n"
     ]
    }
   ],
   "source": [
    "import numpy as np\n",
    "\n",
    "class dynamic_array:\n",
    "    def __init__(self, strategy):\n",
    "        \"\"\"\n",
    "        Create an empty dynamic array. \n",
    "        The allocation strategy can either be \"linear\" or \"geometric\"\n",
    "        \"\"\"\n",
    "        self.array = np.array([0], dtype=np.int64)\n",
    "        self.num_elements = 0\n",
    "        self.strategy = strategy\n",
    "\n",
    "    def at(self, k):\n",
    "        \"\"\"\n",
    "        Return the k-th element\n",
    "        \"\"\"\n",
    "        return self.array[k]\n",
    "\n",
    "    def size(self):\n",
    "        \"\"\"\n",
    "        Return the number of elements\n",
    "        \"\"\"\n",
    "        return self.num_elements\n",
    "\n",
    "    def capacity(self):\n",
    "        \"\"\"\n",
    "        Return the capacity of the storage array\n",
    "        \"\"\"\n",
    "        return len(self.array)\n",
    "\n",
    "    def increase_size(self):\n",
    "        \"\"\"\n",
    "        Increases the size of the storage array\n",
    "        \"\"\"\n",
    "        new_size = self.new_size()\n",
    "        new_array = np.empty((new_size,), dtype=np.int64)\n",
    "        new_array[:len(self.array)] = self.array[:]\n",
    "        self.array = new_array\n",
    "\n",
    "    def new_size(self):\n",
    "        \"\"\"\n",
    "        When we increase the size of the storage array: returns the size of the new storage:\n",
    "        If self.strategy is equal to \"linear\" the new size is len(self.array) + 5.\n",
    "        If self.strategy is equal to \"geometric\" the new size is len(self.array) * 2.\n",
    "        \"\"\"\n",
    "        if self.strategy == \"linear\":\n",
    "            return self.capacity() + 5\n",
    "        else:\n",
    "            return self.capacity() * 2\n",
    "\n",
    "    def insert_back(self, e):\n",
    "        \"\"\"\n",
    "        Insert an element at the back of the array, resizing if necessary\n",
    "        \"\"\"\n",
    "        if self.size() == self.capacity():\n",
    "            self.increase_size()\n",
    "        self.array[self.num_elements] = e\n",
    "        self.num_elements += 1\n",
    "\n",
    "# Example usage\n",
    "unit_test_dynamic_array(dynamic_array)"
   ]
  },
  {
   "cell_type": "markdown",
   "metadata": {},
   "source": [
    "Now let's verify that the runtime of the implemented algorithm matches the expected runtime complexity.\n",
    "\n",
    "Recall what is the expected amortized runtime complexity on $n$ operations `insert_back` on a dynamic array with the resizing strategy:\n",
    "\n",
    "- linear?\n",
    "- geometric?\n",
    "\n",
    "**Does the execution runtime of the implementation matches with those theoretical runtime complexities?**"
   ]
  },
  {
   "cell_type": "code",
   "execution_count": 10,
   "metadata": {},
   "outputs": [
    {
     "name": "stdout",
     "output_type": "stream",
     "text": [
      "Dynamic array \n",
      "\tLinear allocation\n",
      "\t\t 1000 -> 0.0010004043579101562\n",
      "\t\t 4000 -> 0.0\n",
      "\t\t 7000 -> 0.0010314328329903738\n",
      "\t\t 10000 -> 0.0007994651794433594\n",
      "\t\t 13000 -> 0.0011547345381516677\n",
      "\t\t 16000 -> 0.0009764432907104493\n",
      "\t\t 19000 -> 0.0008229079999421772\n",
      "\t\t 22000 -> 0.0014204003594138405\n",
      "\t\t 25000 -> 0.0012503910064697264\n",
      "\t\t 28000 -> 0.0011166930198669434\n",
      "\t\t 31000 -> 0.001512396720147902\n",
      "\t\t 34000 -> 0.0013901626362520106\n",
      "\t\t 37000 -> 0.001549289033219621\n",
      "\t\t 40000 -> 0.0015725433826446532\n",
      "\t\t 43000 -> 0.0018331283746763718\n",
      "\t\t 46000 -> 0.0017070355622664742\n",
      "\t\t 49000 -> 0.0020463320673728474\n",
      "\t\t 52000 -> 0.002094589746915377\n",
      "\t\t 55000 -> 0.0020695859735662286\n",
      "\t\t 58000 -> 0.0021692226672994676\n",
      "\t\t 61000 -> 0.0022755489974725443\n",
      "\t\t 64000 -> 0.0022446773946285248\n",
      "\t\t 67000 -> 0.002405518916115832\n",
      "\t\t 70000 -> 0.0024612358638218474\n",
      "\tGeometric allocation\n",
      "\t\t 1000 -> 0.0\n",
      "\t\t 4000 -> 0.0\n",
      "\t\t 7000 -> 0.0\n",
      "\t\t 10000 -> 0.0\n",
      "\t\t 13000 -> 0.0\n",
      "\t\t 16000 -> 0.0\n",
      "\t\t 19000 -> 0.0\n",
      "\t\t 22000 -> 0.0\n",
      "\t\t 25000 -> 0.0\n",
      "\t\t 28000 -> 0.0001759443964276995\n",
      "\t\t 31000 -> 0.0005039245851578251\n",
      "\t\t 34000 -> 0.0004594887004179113\n",
      "\t\t 37000 -> 0.0004056595467232369\n",
      "\t\t 40000 -> 0.000390702486038208\n",
      "\t\t 43000 -> 0.00020953666332156157\n",
      "\t\t 46000 -> 0.0002839513446973718\n",
      "\t\t 49000 -> 0.00028003478536800465\n",
      "\t\t 52000 -> 0.00030053120393019455\n",
      "\t\t 55000 -> 0.0002841472625732422\n",
      "\t\t 58000 -> 0.00026943765837570717\n",
      "\t\t 61000 -> 0.00025632733204325686\n",
      "\t\t 64000 -> 0.00024415552616119385\n",
      "\t\t 67000 -> 0.0002332089552238806\n",
      "\t\t 70000 -> 0.00022323472159249444\n"
     ]
    },
    {
     "data": {
      "image/png": "[encoded data removed]",
      "text/plain": [
       "<Figure size 640x480 with 1 Axes>"
      ]
     },
     "metadata": {},
     "output_type": "display_data"
    }
   ],
   "source": [
    "plot_dynamic_array_runtime(dynamic_array)"
   ]
  },
  {
   "cell_type": "markdown",
   "metadata": {},
   "source": [
    "### Dequeue based on dynamic arrays\n",
    "\n",
    "**Implement the functions  of the class `dequeuea` below.**\n",
    "\n",
    "The unit test must says that your function seems correct."
   ]
  },
  {
   "cell_type": "code",
   "execution_count": 11,
   "metadata": {},
   "outputs": [
    {
     "name": "stdout",
     "output_type": "stream",
     "text": [
      "\u001b[95m--- Running test: \u001b[0m\n",
      "\u001b[92m✔ 14/14 tests passed.\u001b[0m\n",
      "\u001b[95m--- Test finished.\u001b[0m\n"
     ]
    }
   ],
   "source": [
    "import numpy as np\n",
    "\n",
    "\n",
    "class dequeuea:\n",
    "    # A dequeue based on a dynamic array\n",
    "\n",
    "    def __init__(self):\n",
    "        # create an empty binary heap\n",
    "        self.array = np.zeros(1, dtype=np.int64)\n",
    "        self.num_elements = 0\n",
    "        self.front = 0\n",
    "        self.back = 0\n",
    "\n",
    "    def size(self):\n",
    "        # return the number of elements in the queue\n",
    "        return self.num_elements\n",
    "\n",
    "    def peek_front(self):\n",
    "        # return the element at the front of the queue\n",
    "        if self.num_elements == 0:\n",
    "            raise IndexError(\"peek from an empty dequeue\")\n",
    "        return self.array[self.front]\n",
    "\n",
    "    def peek_back(self):\n",
    "        # return the element at the back of the queue\n",
    "        if self.num_elements == 0:\n",
    "            raise IndexError(\"peek from an empty dequeue\")\n",
    "        return self.array[self.back - 1]\n",
    "\n",
    "    def _increase_array_size(self):\n",
    "        # increase the size of the array with a growth factor of 2\n",
    "        # copy the old array in the middle of the new one\n",
    "        new_size = len(self.array) * 2\n",
    "        new_array = np.zeros(new_size, dtype=np.int64)\n",
    "        start = (new_size - self.num_elements) // 2\n",
    "        for i in range(self.num_elements):\n",
    "            new_array[start + i] = self.array[(self.front + i) % len(self.array)]\n",
    "        self.array = new_array\n",
    "        self.front = start\n",
    "        self.back = start + self.num_elements\n",
    "\n",
    "    def insert_front(self, ne):\n",
    "        # insert a new element at the front of the queue\n",
    "        if self.num_elements == len(self.array):\n",
    "            self._increase_array_size()\n",
    "        self.front = (self.front - 1) % len(self.array)\n",
    "        self.array[self.front] = ne\n",
    "        self.num_elements += 1\n",
    "\n",
    "    def insert_back(self, ne):\n",
    "        # insert a new element at the back of the queue\n",
    "        if self.num_elements == len(self.array):\n",
    "            self._increase_array_size()\n",
    "        self.array[self.back] = ne\n",
    "        self.back = (self.back + 1) % len(self.array)\n",
    "        self.num_elements += 1\n",
    "\n",
    "    def remove_front(self):\n",
    "        # remove the element at the front of the queue\n",
    "        if self.num_elements == 0:\n",
    "            raise IndexError(\"remove from an empty dequeue\")\n",
    "        front_element = self.array[self.front]\n",
    "        self.front = (self.front + 1) % len(self.array)\n",
    "        self.num_elements -= 1\n",
    "        return front_element\n",
    "\n",
    "    def remove_back(self):\n",
    "        # remove the element at the back of the queue\n",
    "        if self.num_elements == 0:\n",
    "            raise IndexError(\"remove from an empty dequeue\")\n",
    "        self.back = (self.back - 1) % len(self.array)\n",
    "        back_element = self.array[self.back]\n",
    "        self.num_elements -= 1\n",
    "        return back_element\n",
    "\n",
    "test_dequeue(dequeuea);"
   ]
  },
  {
   "cell_type": "markdown",
   "metadata": {},
   "source": [
    "The following execution example can help you debug your code"
   ]
  },
  {
   "cell_type": "code",
   "execution_count": 12,
   "metadata": {},
   "outputs": [
    {
     "name": "stdout",
     "output_type": "stream",
     "text": [
      "insert front 1\n",
      "Dequeue: size: 1 front 1 back 1\n",
      "insert back 2\n",
      "Dequeue: size: 2 front 1 back 2\n",
      "remove back\n",
      "Dequeue: size: 1 front 1 back 1\n",
      "remove back\n",
      "Dequeue: size: 0\n",
      "insert front 0, 1, 2, 3, 4, 5\n",
      "insert back 6, 7\n",
      "Dequeue: size: 8 front 5 back 7\n"
     ]
    }
   ],
   "source": [
    "\n",
    "def print_info(dq):\n",
    "    if dq.size() > 0:\n",
    "        print(\"Dequeue: size:\", dq.size(), \"front\", dq.peek_front(), \"back\",\n",
    "              dq.peek_back())\n",
    "    else:\n",
    "        print(\"Dequeue: size:\", dq.size())\n",
    "\n",
    "\n",
    "dq = dequeuea()\n",
    "\n",
    "print(\"insert front 1\")\n",
    "dq.insert_front(1)\n",
    "print_info(dq)\n",
    "print(\"insert back 2\")\n",
    "dq.insert_back(2)\n",
    "print_info(dq)\n",
    "print(\"remove back\")\n",
    "dq.remove_back()\n",
    "print_info(dq)\n",
    "print(\"remove back\")\n",
    "dq.remove_back()\n",
    "print_info(dq)\n",
    "\n",
    "print(\"insert front 0, 1, 2, 3, 4, 5\")\n",
    "print(\"insert back 6, 7\")\n",
    "for i in range(6):\n",
    "    dq.insert_front(i)\n",
    "for i in range(6, 8):\n",
    "    dq.insert_back(i)\n",
    "print_info(dq)"
   ]
  },
  {
   "cell_type": "markdown",
   "metadata": {},
   "source": [
    "### Reverse singly linked list\n",
    "\n",
    "**Implement the functions `reverse_list` below.**\n",
    "\n",
    "The unit test must says that your function seems correct."
   ]
  },
  {
   "cell_type": "code",
   "execution_count": 13,
   "metadata": {},
   "outputs": [
    {
     "name": "stdout",
     "output_type": "stream",
     "text": [
      "\u001b[95m--- Running test: \u001b[0m\n",
      "\u001b[91m✗  reverse_list((0 -> 1 -> 2 -> 3 -> 4 -> 5 -> 6 -> 7 -> 8)) -> None (expected: (8 -> 7 -> 6 -> 5 -> 4 -> 3 -> 2 -> 1 -> 0))\u001b[0m\n",
      "\u001b[91m✗ 0/1 tests passed.\u001b[0m\n",
      "\u001b[95m--- Test finished.\u001b[0m\n"
     ]
    }
   ],
   "source": [
    "class SinglyLinkedListNode:\n",
    "    def __init__(self, value, next=None):\n",
    "        self.value = value\n",
    "        self.next = next\n",
    "\n",
    "    def __str__(self):\n",
    "        s = \"(\" \n",
    "        n = self\n",
    "        while n != None:\n",
    "            s += str(n.value)\n",
    "            if n.next != None:\n",
    "                s += \" -> \"\n",
    "            n = n.next\n",
    "\n",
    "        s += \")\"\n",
    "        return s\n",
    "\n",
    "\n",
    "\n",
    "def reverse_list(sl_list):\n",
    "    # function that reverse a singly linked list\n",
    "    # sl_list: head of the singly linked list (type SinglyLinkedListNode)\n",
    "    # return: head node of the reversed list\n",
    "\n",
    "    ####################\n",
    "    ## Your code here ##\n",
    "    ####################\n",
    "    pass\n",
    "\n",
    "\n",
    "test_reverse_single_linked_list(reverse_list, SinglyLinkedListNode);"
   ]
  },
  {
   "cell_type": "markdown",
   "metadata": {},
   "source": [
    "The following execution example can help you debug your code"
   ]
  },
  {
   "cell_type": "code",
   "execution_count": 14,
   "metadata": {},
   "outputs": [
    {
     "name": "stdout",
     "output_type": "stream",
     "text": [
      "Original list: (0 -> 1 -> 2 -> 3 -> 4 -> 5 -> 6 -> 7 -> 8)\n",
      "Reversed:  None\n"
     ]
    }
   ],
   "source": [
    "n = None\n",
    "for i in range(8, -1, -1):\n",
    "    n = SinglyLinkedListNode(i, n)\n",
    "\n",
    "print(\"Original list:\", str(n))\n",
    "\n",
    "nl = reverse_list(n)\n",
    "print(\"Reversed: \", str(nl))"
   ]
  }
 ],
 "metadata": {
  "kernelspec": {
   "display_name": "base",
   "language": "python",
   "name": "python3"
  },
  "language_info": {
   "codemirror_mode": {
    "name": "ipython",
    "version": 3
   },
   "file_extension": ".py",
   "mimetype": "text/x-python",
   "name": "python",
   "nbconvert_exporter": "python",
   "pygments_lexer": "ipython3",
   "version": "3.11.2"
  }
 },
 "nbformat": 4,
 "nbformat_minor": 2
}
