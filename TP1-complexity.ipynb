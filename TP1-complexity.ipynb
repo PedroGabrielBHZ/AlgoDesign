{
 "cells": [
  {
   "cell_type": "markdown",
   "metadata": {},
   "source": [
    "# Algorithm Design\n",
    "## Chapter 1 - Runtime Complexity"
   ]
  },
  {
   "cell_type": "markdown",
   "metadata": {},
   "source": [
    "Required python packages:\n",
    "\n",
    "- numpy\n",
    "- matplotlib"
   ]
  },
  {
   "cell_type": "code",
   "execution_count": null,
   "metadata": {},
   "outputs": [],
   "source": [
    "try:\n",
    "    from algo_helper import * \n",
    "except: # try to fetch utils functions from URL\n",
    "    import urllib.request as request; exec(request.urlopen('https://perso.esiee.fr/~perretb/AlgorithmDesign/algo_helper.py').read(), globals())"
   ]
  },
  {
   "cell_type": "markdown",
   "metadata": {},
   "source": [
    "### 1. Selection sort\n",
    "\n",
    "**Implement selection sort in the following function.**\n",
    "\n",
    "The sorting must be done in place: the result must be in the input, you must not allocate a new array, the function returns nothing.\n",
    "\n",
    "The unit test must says that your function seems correct."
   ]
  },
  {
   "cell_type": "code",
   "execution_count": null,
   "metadata": {},
   "outputs": [],
   "source": [
    "def selection_sort(array):\n",
    "  ########################\n",
    "  #\n",
    "  # Your code here !    \n",
    "  #\n",
    "  ########################\n",
    "  pass\n",
    "\n",
    "unit_test_sort(selection_sort, inplace=True);"
   ]
  },
  {
   "cell_type": "markdown",
   "metadata": {},
   "source": [
    "Now let's verify that the runtime of the implemented algorithm matches the expected runtime complexity.\n",
    "\n",
    "We are going to run the implemented algorithm on three kind of inputs of various sizes:\n",
    "\n",
    "- already sorted arrays\n",
    "- reverse sorted arrays\n",
    "- random arrays\n",
    "\n",
    "**What is the best and worst case time complexity of the algorithm?**\n",
    "\n",
    "**Does the execution runtime of the implementation matches with those theoretical runtime complexities?**"
   ]
  },
  {
   "cell_type": "code",
   "execution_count": null,
   "metadata": {},
   "outputs": [],
   "source": [
    "runtime_test_sort(selection_sort, [2**i for i in range(6, 12)])"
   ]
  },
  {
   "cell_type": "markdown",
   "metadata": {},
   "source": [
    "### 2. Insertion sort\n",
    "\n",
    "**Implement insertion sort in the following function.**\n",
    "\n",
    "The sorting must be done in place: the result must be in the input, you must not allocate a new array, the function returns nothing.\n",
    "\n",
    "The unit test must says that your function seems correct."
   ]
  },
  {
   "cell_type": "code",
   "execution_count": null,
   "metadata": {},
   "outputs": [],
   "source": [
    "def insertion_sort(array):\n",
    "  ########################\n",
    "  #\n",
    "  # Your code here !    \n",
    "  #\n",
    "  ########################\n",
    "  pass\n",
    "\n",
    "unit_test_sort(insertion_sort, inplace=True);"
   ]
  },
  {
   "cell_type": "markdown",
   "metadata": {},
   "source": [
    "Now let's verify that the runtime of the implemented algorithm matches the expected runtime complexity.\n",
    "\n",
    "We are going to run the implemented algorithm on three kind of inputs of various sizes:\n",
    "\n",
    "- already sorted arrays\n",
    "- reverse sorted arrays\n",
    "- random arrays\n",
    "\n",
    "**What is the best and worst case time complexity of the algorithm?**\n",
    "\n",
    "**Does the execution runtime of the implementation matches with those theoretical runtime complexities?**"
   ]
  },
  {
   "cell_type": "code",
   "execution_count": null,
   "metadata": {},
   "outputs": [],
   "source": [
    "runtime_test_sort(insertion_sort, [2**i for i in range(6, 12)])"
   ]
  }
 ],
 "metadata": {
  "kernelspec": {
   "display_name": "py10",
   "language": "python",
   "name": "python3"
  },
  "language_info": {
   "codemirror_mode": {
    "name": "ipython",
    "version": 3
   },
   "file_extension": ".py",
   "mimetype": "text/x-python",
   "name": "python",
   "nbconvert_exporter": "python",
   "pygments_lexer": "ipython3",
   "version": "3.11.2"
  }
 },
 "nbformat": 4,
 "nbformat_minor": 2
}
